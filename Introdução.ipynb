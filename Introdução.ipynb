{
  "nbformat": 4,
  "nbformat_minor": 0,
  "metadata": {
    "colab": {
      "provenance": [],
      "authorship_tag": "ABX9TyNHKSiTyvZ9WpDyffDCf3oz",
      "include_colab_link": true
    },
    "kernelspec": {
      "name": "python3",
      "display_name": "Python 3"
    },
    "language_info": {
      "name": "python"
    }
  },
  "cells": [
    {
      "cell_type": "markdown",
      "metadata": {
        "id": "view-in-github",
        "colab_type": "text"
      },
      "source": [
        "<a href=\"https://colab.research.google.com/github/GuilhermeoLuiz/Escola/blob/main/Introdu%C3%A7%C3%A3o.ipynb\" target=\"_parent\"><img src=\"https://colab.research.google.com/assets/colab-badge.svg\" alt=\"Open In Colab\"/></a>"
      ]
    },
    {
      "cell_type": "code",
      "execution_count": null,
      "metadata": {
        "colab": {
          "base_uri": "https://localhost:8080/"
        },
        "id": "ltG5w6yyxaJL",
        "outputId": "82651de7-3ec4-4763-8e9d-ce9957e4b9b8"
      },
      "outputs": [
        {
          "output_type": "stream",
          "name": "stdout",
          "text": [
            "['carro', True, 2, 3.5]\n",
            "<class 'list'>\n",
            "True\n",
            "------------------------------\n",
            "('carro', True, 2, 3.5)\n",
            "<class 'tuple'>\n",
            "3.5\n",
            "------------------------------\n",
            "{'nome': 'carro', 'logica': True, 'numero': 2, 'outroNumero': 3.5}\n",
            "<class 'dict'>\n",
            "True\n",
            "------------------------------\n",
            "{True, 2, 3.5, 'carro'}\n",
            "<class 'set'>\n"
          ]
        }
      ],
      "source": [
        "# Lista é uma coleção ordenada e mutável. Permite membros duplicados.\n",
        "lista = [\"carro\", True, 2, 3.5]\n",
        "print(lista)\n",
        "print(type(lista))\n",
        "print(lista[1])\n",
        "print(\"-\"*30)\n",
        "\n",
        "# Tupla é uma coleção ordenada e imutável. Permite membros duplicados.\n",
        "tupla = (\"carro\", True, 2, 3.5)\n",
        "print(tupla)\n",
        "print(type(tupla))\n",
        "print(lista[3])\n",
        "print(\"-\"*30)\n",
        "\n",
        "# 0 dicionário é uma coleção ordenada e mutável. Nenhum membro duplicado.\n",
        "#chave: valor\n",
        "dicionario = {\"nome\": \"carro\", \"logica\": True, \"numero\": 2, \"outroNumero\": 3.5}\n",
        "print (dicionario)\n",
        "print(type(dicionario))\n",
        "print(dicionario[\"logica\"])\n",
        "print(\"-\"*30)\n",
        "\n",
        "# Set é uma coleção não ordenada e não indexada. Nenhum membro duplicado.\n",
        "conjunto = {\"carro\", True, 2, 3.5}\n",
        "print(conjunto)\n",
        "print(type(conjunto))\n",
        "#print(conjunto[1])"
      ]
    }
  ]
}