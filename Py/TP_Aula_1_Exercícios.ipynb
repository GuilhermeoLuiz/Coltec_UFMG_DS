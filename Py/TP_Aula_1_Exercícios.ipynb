{
  "nbformat": 4,
  "nbformat_minor": 0,
  "metadata": {
    "colab": {
      "provenance": [],
      "authorship_tag": "ABX9TyPYQYzNeNcr10YTq0EVnLyS",
      "include_colab_link": true
    },
    "kernelspec": {
      "name": "python3",
      "display_name": "Python 3"
    },
    "language_info": {
      "name": "python"
    }
  },
  "cells": [
    {
      "cell_type": "markdown",
      "metadata": {
        "id": "view-in-github",
        "colab_type": "text"
      },
      "source": [
        "<a href=\"https://colab.research.google.com/github/GuilhermeoLuiz/Escola/blob/main/TP_Aula_1_Exerc%C3%ADcios.ipynb\" target=\"_parent\"><img src=\"https://colab.research.google.com/assets/colab-badge.svg\" alt=\"Open In Colab\"/></a>"
      ]
    },
    {
      "cell_type": "code",
      "execution_count": null,
      "metadata": {
        "colab": {
          "base_uri": "https://localhost:8080/"
        },
        "id": "Hbk2C7NAxzXW",
        "outputId": "b076db31-8720-4bad-bc64-0a95a39cafcf"
      },
      "outputs": [
        {
          "output_type": "stream",
          "name": "stdout",
          "text": [
            "Digite o primeiro número: 987\n",
            "Digite o segundo número: 13.05\n",
            "Digite o terceiro número: 0.052\n",
            "A soma dos valores é: 1000.10\n"
          ]
        }
      ],
      "source": [
        "# Exercício 1\n",
        "\n",
        "# Recebe valores para soma\n",
        "n1 = float(input('Digite o primeiro número: '))\n",
        "n2 = float(input('Digite o segundo número: '))\n",
        "n3 = float(input('Digite o terceiro número: '))\n",
        "\n",
        "# Soma valores\n",
        "soma = n1 + n2 + n3\n",
        "\n",
        "\n",
        "# Imprime soma\n",
        "print(f'A soma dos valores é: %.2f' % soma)"
      ]
    },
    {
      "cell_type": "code",
      "source": [
        "# Exercício 2\n",
        "\n",
        "# Recebe temperatura em Celcius\n",
        "tempC = float(input('Digite a temperatura em Graus Celcius: '))\n",
        "\n",
        "# Converte temperatura para Farenheits e pro tipo inteiro\n",
        "tempF = (tempC*(9.00/5.00)+32.00)\n",
        "tempF = int(tempF)\n",
        "\n",
        "# Imprime temperatura em Farenheits\n",
        "print('A Temperatura em Farenheits: %d' % tempF)"
      ],
      "metadata": {
        "colab": {
          "base_uri": "https://localhost:8080/"
        },
        "id": "keHCT_3t4gBS",
        "outputId": "6c26bbfb-65a2-4a9c-f988-a86a37db4b87"
      },
      "execution_count": null,
      "outputs": [
        {
          "output_type": "stream",
          "name": "stdout",
          "text": [
            "Digite a temperatura em Graus Celcius: 24.4\n",
            "A Temperatura em Farenheits: 75\n"
          ]
        }
      ]
    },
    {
      "cell_type": "code",
      "source": [
        "# Exercício 3\n",
        "\n",
        "# Recebe dados para realizar a cotacao\n",
        "valor = float(input('Digite o valor: '))\n",
        "cotacaoDolar = float(input('Digite a cotação do Dolar: '))\n",
        "\n",
        "# Converte o valor para Dolar\n",
        "valorCotado = (valor/cotacaoDolar)\n",
        "\n",
        "# Imprimi o valor convertido\n",
        "print('O valor em dolar é: $%.2f' % valorCotado)"
      ],
      "metadata": {
        "colab": {
          "base_uri": "https://localhost:8080/"
        },
        "id": "_XnR9XXE74Ag",
        "outputId": "3c61e406-1793-4c61-958b-b21e9e725f0c"
      },
      "execution_count": null,
      "outputs": [
        {
          "output_type": "stream",
          "name": "stdout",
          "text": [
            "Digite o valor: 92\n",
            "Digite a cotação do Dolar: 4.87\n",
            "O valor em dolar é: $18.89\n"
          ]
        }
      ]
    },
    {
      "cell_type": "code",
      "source": [
        "# Exercício 4\n",
        "\n",
        "# Define valores fixos e obtem os dados para calcular o salario\n",
        "valorDia = 30\n",
        "diasTrab = int(input('Quantos foram os dias trabalhados: '))\n",
        "\n",
        "# Calcula salário líquido\n",
        "salarioBruto = (diasTrab * valorDia)\n",
        "salarioBruto = float(salarioBruto)\n",
        "salarioLiq = (salarioBruto * 0.92)\n",
        "\n",
        "# Imprime salário líquido\n",
        "print('Salario líquido: %.2f' % salarioLiq)\n"
      ],
      "metadata": {
        "colab": {
          "base_uri": "https://localhost:8080/"
        },
        "id": "Ik7tX1M-_TcV",
        "outputId": "8e12010b-ab59-4292-aad9-50ac1f5b4af5"
      },
      "execution_count": null,
      "outputs": [
        {
          "output_type": "stream",
          "name": "stdout",
          "text": [
            "Quantos foram os dias trabalhados: 90\n",
            "Salario líquido: 2484.00\n"
          ]
        }
      ]
    },
    {
      "cell_type": "code",
      "source": [
        "# Exercício 5\n",
        "\n",
        "# Recebe os valores dos lados para calcular a área do triângulo\n",
        "cat1 = int(input('Valor de um cateto: '))\n",
        "cat2 = int(input('Valor do outro cateto: '))\n",
        "hip = int(input('Valor da hipotenusa: '))\n",
        "\n",
        "# Calcula área\n",
        "constS = ((cat1 + cat2 + hip)/2)\n",
        "area = ((constS * (constS - cat1) * (constS - cat2) * (constS - hip)) ** (1/2))\n",
        "\n",
        "# Imprime área\n",
        "print('Area: %.2f' % area)"
      ],
      "metadata": {
        "colab": {
          "base_uri": "https://localhost:8080/"
        },
        "id": "dRZnG24fHXq6",
        "outputId": "35608ac0-7040-4aec-d489-66ef4f67e34d"
      },
      "execution_count": null,
      "outputs": [
        {
          "output_type": "stream",
          "name": "stdout",
          "text": [
            "Valor de um cateto: 3\n",
            "Valor do outro cateto: 4\n",
            "Valor da hipotenusa: 5\n",
            "6.00\n"
          ]
        }
      ]
    },
    {
      "cell_type": "code",
      "source": [
        "# Exercício 6\n",
        "\n",
        "# Recebe valores para comparar\n",
        "n1 = float(input('Digite o primeiro número: '))\n",
        "n2 = float(input('Digite o segundo número: '))\n",
        "\n",
        "# Verifica qual o maior valor\n",
        "if n1 < n2:\n",
        "  print('O maior é o %.2f' % n2)\n",
        "\n",
        "elif n1 > n2:\n",
        "  print('O maior é o %.2f' % n1)\n",
        "\n",
        "else:\n",
        "  print('Sao iguais')\n",
        "\n",
        "# Calcula e imprime diferença\n",
        "dif = abs(n1-n2)\n",
        "print('A diferença entre eles é %.2f' % dif)"
      ],
      "metadata": {
        "colab": {
          "base_uri": "https://localhost:8080/"
        },
        "id": "8jR8rRHiK339",
        "outputId": "2d325406-935b-4805-bd20-1f4a8e6a9ec3"
      },
      "execution_count": null,
      "outputs": [
        {
          "output_type": "stream",
          "name": "stdout",
          "text": [
            "Digite o primeiro número: 5\n",
            "Digite o segundo número: 12.5\n",
            "O maior é o 12.50\n",
            "A diferença entre eles é 7.50\n"
          ]
        }
      ]
    },
    {
      "cell_type": "code",
      "source": [
        "# Exercício 7\n",
        "\n",
        "ano = int(input('Digite o ano: '))\n",
        "\n",
        "if (((not(ano % 100 == 0)) and ((ano % 4 == 0))) or (ano % 400 == 0)):\n",
        "  print('Bissexto')\n",
        "else:\n",
        "  print('Não Bissexto')"
      ],
      "metadata": {
        "colab": {
          "base_uri": "https://localhost:8080/"
        },
        "id": "iDjf1f-0Nykk",
        "outputId": "76cd7260-39be-4f8c-f67b-0c431f0d9c6e"
      },
      "execution_count": null,
      "outputs": [
        {
          "output_type": "stream",
          "name": "stdout",
          "text": [
            "Digite o ano: 1900\n",
            "Não Bissexto\n"
          ]
        }
      ]
    },
    {
      "cell_type": "code",
      "source": [
        "# Exercício 8\n",
        "\n",
        "num = int(input('Digite o número: '))\n",
        "\n",
        "if (((num % 3 == 0) or (num % 5 == 0)) and (not((num % 3 == 0) and (num % 5 == 0)))):\n",
        "  print('True')\n",
        "else:\n",
        "  print('False')"
      ],
      "metadata": {
        "colab": {
          "base_uri": "https://localhost:8080/"
        },
        "id": "RMmJWRkXODbM",
        "outputId": "13a4368a-aa71-4df8-aa16-56b2e9cb5f79"
      },
      "execution_count": null,
      "outputs": [
        {
          "output_type": "stream",
          "name": "stdout",
          "text": [
            "Digite o número: 18\n",
            "True\n"
          ]
        }
      ]
    },
    {
      "cell_type": "code",
      "source": [
        "# Exercício 9\n",
        "\n",
        "sexo = str(input(\"Digite o caracter referente ao sexo: \"))\n",
        "idade = int(input(\"Digite a idade: \"))\n",
        "tempTra = int(input(\"Digite o tempo trabalhado: \"))\n",
        "\n",
        "sexo = sexo.lower()\n",
        "\n",
        "if ((sexo[0] == 'f') and ((idade > 60) or (tempTra >= 30))):\n",
        "  print('Pode aposentar')\n",
        "\n",
        "elif (((sexo[0] == 'm') and ((idade > 65) or (tempTra >= 30) or ((idade >= 60) and (tempTra >= 25))))):\n",
        "  print('Pode aposentar')\n",
        "else:\n",
        "  print('Não pode aposentar')"
      ],
      "metadata": {
        "colab": {
          "base_uri": "https://localhost:8080/"
        },
        "id": "mb85GOWUR7n1",
        "outputId": "8fad1abb-063c-4593-bcbd-9eccc7b5ffe2"
      },
      "execution_count": null,
      "outputs": [
        {
          "output_type": "stream",
          "name": "stdout",
          "text": [
            "Digite o caracter referente ao sexo: m\n",
            "Digite a idade: 62\n",
            "Digite o tempo trabalhado: 19\n",
            "Não pode aposentar\n"
          ]
        }
      ]
    },
    {
      "cell_type": "code",
      "source": [
        "# Exercício 10\n",
        "\n",
        "altura = float(input(\"Digite o seu tamanho(em metros): \"))\n",
        "peso = float(input(\"Digite o seu peso(em kg): \"))\n",
        "\n",
        "if ((altura < 1.5) and (peso < 60)):\n",
        "  print(\"A\")\n",
        "if ((1.5 <= altura <= 1.8) and (peso < 60)):\n",
        "  print(\"B\")\n",
        "if ((altura > 1.8) and (peso < 60)):\n",
        "  print(\"C\")\n",
        "if ((altura < 1.5) and (60 < peso <= 90)):\n",
        "  print(\"D\")\n",
        "if ((1.5 <= altura <= 1.8) and (60 < peso <= 90)):\n",
        "  print(\"E\")\n",
        "if ((altura > 1.8) and (60 < peso <= 90)):\n",
        "  print(\"F\")\n",
        "if ((altura < 1.5) and (peso > 90)):\n",
        "  print(\"G\")\n",
        "if ((1.5 <= altura <= 1.8) and (peso > 90)):\n",
        "  print(\"H\")\n",
        "if ((altura > 1.8) and (peso > 90)):\n",
        "  print(\"I\")"
      ],
      "metadata": {
        "id": "3TSQBdQUW5pt",
        "colab": {
          "base_uri": "https://localhost:8080/"
        },
        "outputId": "1abd22ba-1fda-4288-bf50-226400801e70"
      },
      "execution_count": null,
      "outputs": [
        {
          "output_type": "stream",
          "name": "stdout",
          "text": [
            "Digite o seu tamanho(em metros): 1.7\n",
            "Digite o seu peso(em kg): 90\n",
            "E\n"
          ]
        }
      ]
    },
    {
      "cell_type": "code",
      "source": [
        "# Exercício 11\n",
        "\n",
        "menu = int(input(\"Calcula média9 \\n(1)Geométrica \\n(2)Ponderada \\n(3)Harmônica \\n(4)Aritmética \\nDigite: \"))\n",
        "\n",
        "num1 = int(input(\"Digite o primeiro numero para calculcar a media desejada: \"))\n",
        "num2 = int(input(\"Digite o segundo numero para calculcar a media desejada: \"))\n",
        "num3 = int(input(\"Digite o terceiro numero para calculcar a media desejada: \"))\n",
        "resultado = 0\n",
        "\n",
        "if (menu == 1):\n",
        "  resultado = ((num1 * num2 * num3) ** (1/3))\n",
        "  print(\"O resultado da media escolhida para esses numeros é %.2f\" %resultado)\n",
        "if (menu == 2):\n",
        "  resultado = ((num1 + 2 * num2 + 3 * num3) / 6)\n",
        "  print(\"O resultado da media escolhida para esses numeros é %.2f\" %resultado)\n",
        "if (menu == 3):\n",
        "  resultado = (3 / (1/num1 + 1/num2 + 1/num3))\n",
        "  print(\"O resultado da media escolhida para esses numeros é %.2f\" %resultado)\n",
        "if (menu == 4):\n",
        "  resultado = ((num1 + num2 + num3) / 3)\n",
        "  print(\"O resultado da media escolhida para esses numeros é %.2f\" %resultado)"
      ],
      "metadata": {
        "colab": {
          "base_uri": "https://localhost:8080/"
        },
        "id": "-JFXah7XLfNd",
        "outputId": "ba370a76-484a-452f-f464-6ad81f5fb759"
      },
      "execution_count": null,
      "outputs": [
        {
          "output_type": "stream",
          "name": "stdout",
          "text": [
            "Calcula média9 \n",
            "(1)Geométrica \n",
            "(2)Ponderada \n",
            "(3)Harmônica \n",
            "(4)Aritmética \n",
            "Digite: 1\n",
            "Digite o primeiro numero para calculcar a media desejada: 2\n",
            "Digite o segundo numero para calculcar a media desejada: 3\n",
            "Digite o terceiro numero para calculcar a media desejada: 4\n",
            "O resultado da media escolhida para esses numeros é 2.88\n"
          ]
        }
      ]
    },
    {
      "cell_type": "code",
      "source": [
        "# Exercício 12\n",
        "\n",
        "num1 = int(input(\"Digite o primeiro numero para se obter o MDC: \"))\n",
        "num2 = int(input(\"Digite o segundo numero: \"))\n",
        "\n",
        "while num2 != 0:\n",
        "    resto = num1 % num2\n",
        "    num1 = num2\n",
        "    num2 = resto\n",
        "\n",
        "mdc = num1\n",
        "print(\"%d\" % num1)"
      ],
      "metadata": {
        "colab": {
          "base_uri": "https://localhost:8080/"
        },
        "id": "x0PwptBrRDp1",
        "outputId": "cd112629-29ba-4dd0-e7a2-cf05c53f688a"
      },
      "execution_count": null,
      "outputs": [
        {
          "output_type": "stream",
          "name": "stdout",
          "text": [
            "Digite o primeiro numero para se obter o MDC: 27\n",
            "Digite o segundo numero: 12\n",
            "3\n"
          ]
        }
      ]
    },
    {
      "cell_type": "code",
      "source": [
        "# Exercício 13\n",
        "\n",
        "num1 = int(input(\"Digite o primeiro numero: \"))\n",
        "num2 = int(input(\"Digite o segundo numero: \"))\n",
        "operador = num1 + 1\n",
        "\n",
        "while (operador < num2):\n",
        "  if ((operador % 2) != 0):\n",
        "    print(\"%d\" % operador)\n",
        "  operador+= 1"
      ],
      "metadata": {
        "colab": {
          "base_uri": "https://localhost:8080/"
        },
        "id": "dgiq9GmtTm9v",
        "outputId": "77dc6c79-85af-466d-fe03-144e5a375fd9"
      },
      "execution_count": null,
      "outputs": [
        {
          "output_type": "stream",
          "name": "stdout",
          "text": [
            "Digite o primeiro numero: -4\n",
            "Digite o segundo numero: 7\n",
            "-3\n",
            "-1\n",
            "1\n",
            "3\n",
            "5\n"
          ]
        }
      ]
    },
    {
      "cell_type": "code",
      "source": [
        "# Exercício 14\n",
        "\n",
        "num = int(input(\"Digite a quantidades de linhas para o triângulo: \"))\n",
        "nuns = 1\n",
        "contador = 0\n",
        "\n",
        "for i in range(1, num+1):\n",
        "  for contador in range(0, i):\n",
        "    print(\"%d\" % nuns, end=\" \")\n",
        "    nuns += 1\n",
        "  print(\"\")"
      ],
      "metadata": {
        "colab": {
          "base_uri": "https://localhost:8080/"
        },
        "id": "5YKMIZk3WGU3",
        "outputId": "6b2a2542-f06c-4a3a-bdfa-df5b11c76e4d"
      },
      "execution_count": null,
      "outputs": [
        {
          "output_type": "stream",
          "name": "stdout",
          "text": [
            "Digite a quantidades de linhas para o triângulo: 6\n",
            "1 \n",
            "2 3 \n",
            "4 5 6 \n",
            "7 8 9 10 \n",
            "11 12 13 14 15 \n",
            "16 17 18 19 20 21 \n"
          ]
        }
      ]
    },
    {
      "cell_type": "code",
      "source": [
        "# Exercício 15\n",
        "\n",
        "valeA = float(input(\"Digite o valor do vale alimentação: \"))\n",
        "valeT = float(input(\"Digite o valor do vale transporte: \"))\n",
        "quantC = float(input(\"Digite a quantia construida(m²): \"))\n",
        "\n",
        "somaV = ((valeT * 2) + valeA)\n",
        "somaC = 0\n",
        "somaT = 0\n",
        "\n",
        "if (quantC < 10):\n",
        "  somaC = quantC * 10\n",
        "  somaT = somaC + somaV\n",
        "  print(\"O pedreiro deve receber R$%.2f\" % somaT)\n",
        "elif (10 <= quantC < 20):\n",
        "  somaC = quantC * 11.5\n",
        "  somaT = somaC + somaV\n",
        "  print(\"O pedreiro deve receber R$%.2f\" % somaT)\n",
        "elif (quantC >= 20):\n",
        "  somaC = quantC * 13\n",
        "  somaT = somaC + somaV\n",
        "  print(\"O pedreiro deve receber R$%.2f\" % somaT)\n",
        "else:\n",
        "  print(\"Não foi possível calcular o valor a ser pago, devido ao dado errado sobre a quantidade construída\")\n"
      ],
      "metadata": {
        "colab": {
          "base_uri": "https://localhost:8080/"
        },
        "id": "_IvsNN4hZ157",
        "outputId": "edc83a4b-6330-4929-e6d3-dda4d5cdf08f"
      },
      "execution_count": null,
      "outputs": [
        {
          "output_type": "stream",
          "name": "stdout",
          "text": [
            "Digite o valor do vale alimentação: 0\n",
            "Digite o valor do vale transporte: 5\n",
            "Digite a quantia construida(m²): 20\n",
            "O pedreiro deve receber R$270.00\n"
          ]
        }
      ]
    },
    {
      "cell_type": "code",
      "source": [
        "# Exercício 16\n",
        "\n",
        "numN = float(input(\"Digite o numero de termos: \"))\n",
        "numA = float(input(\"Digite o termo inicial: \"))\n",
        "numR = float(input(\"Digite a razão: \"))\n",
        "\n",
        "termoG = (numA + (numN -1) * numR)\n",
        "somaT = (((numA + termoG) * numN) / 2)\n",
        "\n",
        "print(\"%.0f\" % somaT)"
      ],
      "metadata": {
        "colab": {
          "base_uri": "https://localhost:8080/"
        },
        "id": "U9iEjMXJaKF6",
        "outputId": "00c6c1e0-2ef8-4285-9296-ce69992ae887"
      },
      "execution_count": null,
      "outputs": [
        {
          "output_type": "stream",
          "name": "stdout",
          "text": [
            "Digite o numero de termos: 20\n",
            "Digite o termo inicial: 1\n",
            "Digite a razão: 2.7\n",
            "533\n"
          ]
        }
      ]
    },
    {
      "cell_type": "code",
      "source": [
        "# Exercício 17\n",
        "\n",
        "numN = float(input(\"Digite o numero n a ser descoberto os multiplos: \"))\n",
        "numX = float(input(\"Digite o termo x, limite para os multiplos: \"))\n",
        "resultado = 0.0\n",
        "\n",
        "while (resultado <= numX):\n",
        "  print(\"%.0f\" % resultado, end=\", \")\n",
        "  resultado += numN"
      ],
      "metadata": {
        "colab": {
          "base_uri": "https://localhost:8080/"
        },
        "id": "SpHOAGg0cJnw",
        "outputId": "4d6bbc4f-d3d5-49f6-b8ca-9168cf20260e"
      },
      "execution_count": null,
      "outputs": [
        {
          "output_type": "stream",
          "name": "stdout",
          "text": [
            "Digite o numero n a ser descoberto os multiplos: 2\n",
            "Digite o termo x, limite para os multiplos: 90\n",
            "0, 2, 4, 6, 8, 10, 12, 14, 16, 18, 20, 22, 24, 26, 28, 30, 32, 34, 36, 38, 40, 42, 44, 46, 48, 50, 52, 54, 56, 58, 60, 62, 64, 66, 68, 70, 72, 74, 76, 78, 80, 82, 84, 86, 88, 90, "
          ]
        }
      ]
    },
    {
      "cell_type": "code",
      "source": [
        "# Exercício 18\n",
        "\n",
        "def ePrimo(num):\n",
        "  primo = True\n",
        "  for i in range(2, num):\n",
        "    if((num % i) == 0):\n",
        "      primo = False\n",
        "  if(primo):\n",
        "    return True\n",
        "  else:\n",
        "    return False\n",
        "\n",
        "def calcula_mmc(num1, num2):\n",
        "  contador = max(num1, num2)\n",
        "  while True:\n",
        "    if ((contador % num1 == 0) and (contador % num2 == 0)):\n",
        "      mmc = contador\n",
        "      break\n",
        "    contador += 1\n",
        "  return mmc\n",
        "\n",
        "def somaDigitos(num):\n",
        "  soma = 0\n",
        "  while (num > 0):\n",
        "    resto = num % 10\n",
        "    num = (num - resto)/10\n",
        "    soma = soma + resto\n",
        "  return soma\n",
        "\n",
        "def nPrimo(num):\n",
        "  cont = 0\n",
        "  nuns = 0\n",
        "\n",
        "  while (cont <= num):\n",
        "    nuns += 1\n",
        "    if(ePrimo(nuns)):\n",
        "      cont += 1\n",
        "      valor = nuns\n",
        "  return nuns\n",
        "\n",
        "def transformaHoras(numH, numM, numS):\n",
        "  tempoS = ((numH * 3600) + (numM * 60) + numS)\n",
        "  return tempoS\n",
        "\n",
        "op = 1\n",
        "while(op != 0):\n",
        "  op = int(input(\"Funções \\n(1)Primo \\n(2)MMC \\n(3)Soma Digitos \\n(4)Enésimo termo primo \\n(5)Converte horas\\n(0)Sair \\nDigite: \"))\n",
        "\n",
        "  if(op == 0):\n",
        "    print(\"Até logo\")\n",
        "\n",
        "  elif(op == 1):\n",
        "    num = int(input(\"Digite o numero: \"))\n",
        "    if (ePrimo(num)):\n",
        "      print(\"O numero é primo\\n\")\n",
        "    else:\n",
        "      print(\"O numero não é primo\\n\")\n",
        "\n",
        "  elif(op == 2):\n",
        "    num1 = int(input(\"Digite o primeiro número para calcular o mmc: \"))\n",
        "    num2 = int(input(\"Digite o segundo número: \"))\n",
        "    print(\"%d\\n\" % calcula_mmc(num1, num2))\n",
        "\n",
        "  elif(op == 3):\n",
        "    num = int(input(\"Digite o numero: \"))\n",
        "    print(\"%d\\n\" % somaDigitos(num))\n",
        "\n",
        "  elif(op == 4):\n",
        "    num = int(input(\"Digite o numero: \"))\n",
        "    print(\"%d\\n\" % nPrimo(num))\n",
        "\n",
        "  elif(op == 5):\n",
        "    numH = int(input(\"Digite as horas: \"))\n",
        "    numM = int(input(\"Digite os minutos: \"))\n",
        "    numS = int(input(\"Digite os segundos: \"))\n",
        "    print(\"%d\\n\" % transformaHoras(numH, numM, numS))\n",
        "\n",
        "  else:\n",
        "    print(\"Opção inválida\\n\")\n",
        "\n"
      ],
      "metadata": {
        "colab": {
          "base_uri": "https://localhost:8080/"
        },
        "id": "LBpQtXkNZ9Dk",
        "outputId": "0fa3a331-2970-402e-f125-1efa182d3763"
      },
      "execution_count": null,
      "outputs": [
        {
          "output_type": "stream",
          "name": "stdout",
          "text": [
            "Funções \n",
            "(1)Primo \n",
            "(2)MMC \n",
            "(3)Soma Digitos \n",
            "(4)Enésimo termo primo \n",
            "(5)Converte horas\n",
            "(0)Sair \n",
            "Digite: 5\n",
            "Digite as horas: 1\n",
            "Digite os minutos: 1\n",
            "Digite os segundos: 2\n",
            "3662\n",
            "\n",
            "Funções \n",
            "(1)Primo \n",
            "(2)MMC \n",
            "(3)Soma Digitos \n",
            "(4)Enésimo termo primo \n",
            "(5)Converte horas\n",
            "(0)Sair \n",
            "Digite: 0\n",
            "Até logo\n"
          ]
        }
      ]
    }
  ]
}