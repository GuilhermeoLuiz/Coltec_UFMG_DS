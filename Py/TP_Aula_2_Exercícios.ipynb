{
  "nbformat": 4,
  "nbformat_minor": 0,
  "metadata": {
    "colab": {
      "provenance": [],
      "authorship_tag": "ABX9TyO2kiIqhkGazoKmQpXb7I+2",
      "include_colab_link": true
    },
    "kernelspec": {
      "name": "python3",
      "display_name": "Python 3"
    },
    "language_info": {
      "name": "python"
    }
  },
  "cells": [
    {
      "cell_type": "markdown",
      "metadata": {
        "id": "view-in-github",
        "colab_type": "text"
      },
      "source": [
        "<a href=\"https://colab.research.google.com/github/GuilhermeoLuiz/Escola/blob/main/Py/TP_Aula_2_Exerc%C3%ADcios.ipynb\" target=\"_parent\"><img src=\"https://colab.research.google.com/assets/colab-badge.svg\" alt=\"Open In Colab\"/></a>"
      ]
    },
    {
      "cell_type": "code",
      "execution_count": null,
      "metadata": {
        "colab": {
          "base_uri": "https://localhost:8080/"
        },
        "id": "4yXOlUY6iqeM",
        "outputId": "74dd4219-9695-41e3-b629-8f6d98552eae"
      },
      "outputs": [
        {
          "output_type": "stream",
          "name": "stdout",
          "text": [
            "Digite a quantidade de numeros a serem inseridos: 10\n",
            "Digite o numero 1: 0\n",
            "Digite o numero 2: -98\n",
            "Digite o numero 3: 27\n",
            "Digite o numero 4: 39\n",
            "Digite o numero 5: 0\n",
            "Digite o numero 6: 1\n",
            "Digite o numero 7: -7\n",
            "Digite o numero 8: 0\n",
            "Digite o numero 9: 125\n",
            "Digite o numero 10: -2\n",
            "85\n",
            "8.50\n",
            "125\n",
            "-98\n",
            "3\n"
          ]
        }
      ],
      "source": [
        "# Exercício 1\n",
        "\n",
        "tam = int(input(\"Digite a quantidade de numeros a serem inseridos: \"))\n",
        "lista = []\n",
        "\n",
        "for i in range(1, tam+1):\n",
        "  num = int(input(\"Digite o numero %d: \" % i))\n",
        "  lista.append(num)\n",
        "\n",
        "# Imprime a soma dos numeros\n",
        "print(sum(lista))\n",
        "\n",
        "# Imprime a media dos numeros\n",
        "media = (sum(lista))/(len(lista))\n",
        "print(\"%.2f\" % media)\n",
        "\n",
        "# Imprime o maior numero\n",
        "print(max(lista))\n",
        "\n",
        "# Imprime o menor numero\n",
        "print(min(lista))\n",
        "\n",
        "# Imprime a quantidade de zeros\n",
        "print((lista).count(0))"
      ]
    },
    {
      "cell_type": "code",
      "source": [
        "# Exercício 2\n",
        "\n",
        "lista = input(\"Digite a frase: \").split( ' ')\n",
        "lista_ordenada = sorted(lista)\n",
        "indices = []\n",
        "for i in range(0, len(lista)):\n",
        "  for j in range(0, len(lista)):\n",
        "    if(lista_ordenada[i] == lista[j]):\n",
        "      indices.append(j)\n",
        "print(lista_ordenada, indices)"
      ],
      "metadata": {
        "colab": {
          "base_uri": "https://localhost:8080/"
        },
        "id": "O0GEudY2sfG0",
        "outputId": "d59a0586-e694-4d92-808a-be11430b09bd"
      },
      "execution_count": null,
      "outputs": [
        {
          "output_type": "stream",
          "name": "stdout",
          "text": [
            "Digite a frase Python C C++ Java Ruby C# .NET\n",
            "['.NET', 'C', 'C#', 'C++', 'Java', 'Python', 'Ruby'] [6, 1, 5, 2, 3, 0, 4]\n"
          ]
        }
      ]
    },
    {
      "cell_type": "code",
      "source": [
        "# Exercício 3\n",
        "\n",
        "lista = input(\"Digite os numeros: \").split( ' ')\n",
        "lista_cp = lista.copy()\n",
        "\n",
        "pontuacoes = []\n",
        "indices = []\n",
        "\n",
        "for i in range (0, 3):\n",
        "  pontuacoes.append(max(lista_cp))\n",
        "  lista_cp.remove(max(lista_cp))\n",
        "  for j in range(0, len(lista)):\n",
        "    if((pontuacoes[i] == lista[j]) and (not j in indices)):\n",
        "      indices.append(j)\n",
        "      break;\n",
        "\n",
        "print(f'Primeiro: {indices[0]}, {pontuacoes[0]}')\n",
        "print(f'Segundo: {indices[1]}, {pontuacoes[1]}')\n",
        "print(f'Terceiro: {indices[2]}, {pontuacoes[2]}')"
      ],
      "metadata": {
        "colab": {
          "base_uri": "https://localhost:8080/"
        },
        "id": "awbK1Igi7twS",
        "outputId": "e61f64b2-2a4f-4442-c71e-926c7ef91622"
      },
      "execution_count": null,
      "outputs": [
        {
          "output_type": "stream",
          "name": "stdout",
          "text": [
            "Digite os numeros: 86 86 85 85 85 83 23 45 84 11 26\n",
            "Primeiro: 0, 86\n",
            "Segundo: 1, 86\n",
            "Terceiro: 2, 85\n"
          ]
        }
      ]
    },
    {
      "cell_type": "code",
      "source": [
        "# Exercício 4\n",
        "\n",
        "num_produtos = int(input(\"Digite a quantidade de produtos: \"))\n",
        "lista = []\n",
        "nomes = []\n",
        "precos = []\n",
        "\n",
        "for i in range(0, num_produtos):\n",
        "  entrada = input(\"Digite o nome do produto e o preço separados por espaço: \").split(' ')\n",
        "  lista.append(' '.join(entrada[:-1]))\n",
        "  lista.append(entrada[-1])\n",
        "\n",
        "for i, elemento in enumerate(lista):\n",
        "    if i % 2 == 0:\n",
        "        lista[i] = str(elemento)\n",
        "    else:\n",
        "        lista[i] = float(elemento)\n",
        "\n",
        "for i in range(0, len(lista)):\n",
        "  if(i % 2 == 0):\n",
        "    nomes.append(lista[i])\n",
        "  else:\n",
        "    precos.append(lista[i])\n",
        "\n",
        "produtos = list(zip(nomes, precos))\n",
        "produtos_ordenados = sorted(produtos, key=lambda x: x[0])\n",
        "\n",
        "for produto in produtos_ordenados:\n",
        "    print(f\"{produto[0]} {produto[1]}\")"
      ],
      "metadata": {
        "colab": {
          "base_uri": "https://localhost:8080/"
        },
        "id": "DmkRCQUNv2vx",
        "outputId": "2af39bc8-18ec-4f6e-c0c5-35daa98a7449"
      },
      "execution_count": null,
      "outputs": [
        {
          "output_type": "stream",
          "name": "stdout",
          "text": [
            "Digite a quantidade de produtos: 5\n",
            "Digite o nome do produto e o preço separados por espaço: Laptop 3280.00\n",
            "Digite o nome do produto e o preço separados por espaço: Celular 1700.00\n",
            "Digite o nome do produto e o preço separados por espaço: Câmera DSLR 5209.90\n",
            "Digite o nome do produto e o preço separados por espaço: Webcam 249.99\n",
            "Digite o nome do produto e o preço separados por espaço: Caixa de Som 99.99\n",
            "Caixa de Som 99.99\n",
            "Celular 1700.0\n",
            "Câmera DSLR 5209.9\n",
            "Laptop 3280.0\n",
            "Webcam 249.99\n"
          ]
        }
      ]
    },
    {
      "cell_type": "code",
      "source": [
        "# Exercício 5\n",
        "\n",
        "lista = []\n",
        "\n",
        "lista = (input(\"Digite os numeros separados por virgula: \")).split(',')\n",
        "lista = [int(s) for s in lista]\n",
        "\n",
        "for i in range(0, len(lista)):\n",
        "  lista[i] = (lista[i] ** 2)\n",
        "\n",
        "print(lista)"
      ],
      "metadata": {
        "colab": {
          "base_uri": "https://localhost:8080/"
        },
        "id": "k0NWFwqs9RvR",
        "outputId": "7e679e8a-c786-4f3b-b3d7-0455a6b39c9c"
      },
      "execution_count": null,
      "outputs": [
        {
          "output_type": "stream",
          "name": "stdout",
          "text": [
            "Digite os numeros separados por virgula: 1, 2, 5, 7, 11, 13\n",
            "[1, 4, 25, 49, 121, 169]\n"
          ]
        }
      ]
    },
    {
      "cell_type": "code",
      "source": [
        "# Exercício 6\n",
        "\n",
        "tam_matriz = 3\n",
        "\n",
        "matriz = []\n",
        "soma = 0\n",
        "\n",
        "for i in range(0, tam_matriz):\n",
        "  linha = (input(\"Digite os numeros da lista separados por espaco(linha %d): \" % (i+1))).split(' ')\n",
        "  linha = [int(valor) for valor in linha]\n",
        "  matriz.append(linha)\n",
        "\n",
        "# for sublista in lista:\n",
        "# print(' '.join(map(str, sublista)))\n",
        "\n",
        "soma = sum(matriz[i][i] for i in range(len(matriz)))\n",
        "\n",
        "print(soma)\n"
      ],
      "metadata": {
        "colab": {
          "base_uri": "https://localhost:8080/"
        },
        "id": "cNzIED0PIsfs",
        "outputId": "52308bd9-a263-4387-caf1-3435a3e7c0e3"
      },
      "execution_count": null,
      "outputs": [
        {
          "output_type": "stream",
          "name": "stdout",
          "text": [
            "Digite os numeros da lista separados por espaco(linha 1): 1 3 5\n",
            "Digite os numeros da lista separados por espaco(linha 2): 1 4 6\n",
            "Digite os numeros da lista separados por espaco(linha 3): 7 6 9\n",
            "14\n"
          ]
        }
      ]
    },
    {
      "cell_type": "code",
      "source": [
        "def maior_que_n(lista, n):\n",
        "  soma_n = 0\n",
        "\n",
        "  for i in range(len(lista)):\n",
        "      if ((len(lista[i])) > n):\n",
        "          soma_n += 1\n",
        "  return soma_n\n",
        "\n",
        "def conta_vogal(lista):\n",
        "  quantidades = []\n",
        "\n",
        "  for palavra in lista:\n",
        "    quantidade = 0\n",
        "    palavra = palavra.lower()\n",
        "    for letra in palavra:\n",
        "      if letra == (str(\"a\")) or letra == (str(\"e\")) or letra == (str(\"i\")) or letra == (str(\"o\")) or letra == (str(\"u\")):\n",
        "        quantidade += 1\n",
        "    quantidades.append(quantidade)\n",
        "\n",
        "  return quantidades\n",
        "\n",
        "def tamanhos_iguais(lista):\n",
        "  tamanhos = []\n",
        "  lista2 = []\n",
        "\n",
        "  for palavra in lista:\n",
        "    tamanho_existe = False\n",
        "    for i in range(0, len(tamanhos)):\n",
        "      if(len(palavra) == tamanhos[i]):\n",
        "        lista2[i].append(palavra)\n",
        "        tamanho_existe = True\n",
        "        break;\n",
        "    if not tamanho_existe:\n",
        "      tamanhos.append(len(palavra))\n",
        "      lista2.append([palavra])\n",
        "  lista2.sort(key=lambda x: len(x[0]))\n",
        "\n",
        "  return lista2\n",
        "\n",
        "\n",
        "def criptografa_nomes(lista):\n",
        "  import random\n",
        "  n = random.randint(1,10)\n",
        "  new_frase = []\n",
        "\n",
        "  for palavra in lista:\n",
        "    new_palavra = []\n",
        "    for letra in palavra:\n",
        "      num = ord(letra)\n",
        "      num += n\n",
        "      new_palavra.append(chr(num))\n",
        "    new_frase.append(\"\".join(new_palavra))\n",
        "\n",
        "  return(new_frase, n)\n",
        "\n",
        "lista = input(\"Digite os nomes separados por vírgula e espaco: \").split(', ')\n",
        "\n",
        "while True:\n",
        "    print(\"\\nEscolha uma opção:\")\n",
        "    print(\"1 - Nomes maiores que n\")\n",
        "    print(\"2 - Conta vogais\")\n",
        "    print(\"3 - Separa por tamanhos\")\n",
        "    print(\"4 - Critografa nomes\")\n",
        "    print(\"0 - Sair\")\n",
        "\n",
        "    op = int(input(\"Digite o número da opção desejada: \"))\n",
        "\n",
        "    if op == 0:\n",
        "        print(\"Até mais!\")\n",
        "        break\n",
        "\n",
        "    if op == 1:\n",
        "        n = int(input(\"Digite o valor de n: \"))\n",
        "        print(maior_que_n(lista, n))\n",
        "\n",
        "    if op == 2:\n",
        "        lista_quantidade = conta_vogal(lista)\n",
        "        print(lista_quantidade)\n",
        "\n",
        "    if op == 3:\n",
        "        print(tamanhos_iguais(lista))\n",
        "\n",
        "    if op == 4:\n",
        "        print(criptografa_nomes(lista))"
      ],
      "metadata": {
        "colab": {
          "base_uri": "https://localhost:8080/"
        },
        "id": "YI0dpnH8WNYq",
        "outputId": "30a77bc3-fe39-4d79-ced4-cde22048e1ff"
      },
      "execution_count": null,
      "outputs": [
        {
          "output_type": "stream",
          "name": "stdout",
          "text": [
            "Digite os nomes separados por vírgula e espaco: Luana, Ju, Davi, Vivi, Pri, Cleo\n",
            "\n",
            "Escolha uma opção:\n",
            "1 - Nomes maiores que n\n",
            "2 - Conta vogais\n",
            "3 - Separa por tamanhos\n",
            "4 - Critografa nomes\n",
            "0 - Sair\n",
            "Digite o número da opção desejada: 1\n",
            "Digite o valor de n: 3\n",
            "4\n",
            "\n",
            "Escolha uma opção:\n",
            "1 - Nomes maiores que n\n",
            "2 - Conta vogais\n",
            "3 - Separa por tamanhos\n",
            "4 - Critografa nomes\n",
            "0 - Sair\n",
            "Digite o número da opção desejada: 2\n",
            "[3, 1, 2, 2, 1, 2]\n",
            "\n",
            "Escolha uma opção:\n",
            "1 - Nomes maiores que n\n",
            "2 - Conta vogais\n",
            "3 - Separa por tamanhos\n",
            "4 - Critografa nomes\n",
            "0 - Sair\n",
            "Digite o número da opção desejada: 3\n",
            "[['Ju'], ['Pri'], ['Davi', 'Vivi', 'Cleo'], ['Luana']]\n",
            "\n",
            "Escolha uma opção:\n",
            "1 - Nomes maiores que n\n",
            "2 - Conta vogais\n",
            "3 - Separa por tamanhos\n",
            "4 - Critografa nomes\n",
            "0 - Sair\n",
            "Digite o número da opção desejada: 4\n",
            "(['T}ivi', 'R}', 'Li~q', '^q~q', 'Xzq', 'Ktmw'], 8)\n",
            "\n",
            "Escolha uma opção:\n",
            "1 - Nomes maiores que n\n",
            "2 - Conta vogais\n",
            "3 - Separa por tamanhos\n",
            "4 - Critografa nomes\n",
            "0 - Sair\n",
            "Digite o número da opção desejada: 0\n",
            "Até mais!\n"
          ]
        }
      ]
    },
    {
      "cell_type": "code",
      "source": [],
      "metadata": {
        "id": "ue1meWJ4zOwt"
      },
      "execution_count": null,
      "outputs": []
    },
    {
      "cell_type": "code",
      "source": [],
      "metadata": {
        "id": "B5qcyuk8Z03J"
      },
      "execution_count": null,
      "outputs": []
    }
  ]
}